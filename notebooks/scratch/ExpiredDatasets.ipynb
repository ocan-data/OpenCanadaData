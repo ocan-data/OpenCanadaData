{
 "cells": [
  {
   "cell_type": "markdown",
   "metadata": {},
   "source": [
    "# Expired Datasets"
   ]
  },
  {
   "cell_type": "code",
   "execution_count": 2,
   "metadata": {},
   "outputs": [
    {
     "name": "stdout",
     "output_type": "stream",
     "text": [
      "The autoreload extension is already loaded. To reload it, use:\n",
      "  %reload_ext autoreload\n"
     ]
    }
   ],
   "source": [
    "import sys\n",
    "\n",
    "sys.path.append('../..')\n",
    "\n",
    "%load_ext autoreload\n",
    "%autoreload 2"
   ]
  },
  {
   "cell_type": "code",
   "execution_count": 29,
   "metadata": {},
   "outputs": [],
   "source": [
    "from ocandata import Inventory\n",
    "inventory = Inventory()"
   ]
  },
  {
   "cell_type": "code",
   "execution_count": 30,
   "metadata": {},
   "outputs": [
    {
     "data": {
      "text/plain": [
       "2537"
      ]
     },
     "execution_count": 30,
     "metadata": {},
     "output_type": "execute_result"
    }
   ],
   "source": [
    "len(inventory)"
   ]
  },
  {
   "cell_type": "code",
   "execution_count": 38,
   "metadata": {},
   "outputs": [
    {
     "data": {
      "text/html": [
       "<h3>Open Canada Data Inventory</h3><table border=\"1\" class=\"dataframe\">\n",
       "  <thead>\n",
       "    <tr style=\"text-align: right;\">\n",
       "      <th>title</th>\n",
       "      <th>description</th>\n",
       "      <th>publisher</th>\n",
       "      <th>published</th>\n",
       "      <th>released</th>\n",
       "    </tr>\n",
       "  </thead>\n",
       "  <tbody>\n",
       "    <tr>\n",
       "      <td>Disaster Mitigation and Adaptation Fund (DMAF) Project List</td>\n",
       "      <td>The Government of Canada launched the Disaster Mitigation and Adaptation Fund (DMAF), a national merit-based program that will invest $2 billion to support large-scale infrastructure projects to help communities better manage the risks of disasters triggered by natural hazards. DMAF projects will support the Government of Canada's objectives laid out in the Pan-Canadian Framework on Clean Growth and Climate Change.\\r\\nEligible projects under DMAF include:\\r\\n- New construction of public infrastructure including natural infrastructure; and\\r\\n- Modification and/or reinforcement including rehabilitation and expansion of existing public infrastructure including natural infrastructure.</td>\n",
       "      <td>Infrastructure Canada</td>\n",
       "      <td>2018-06-01</td>\n",
       "      <td>2018-06-01</td>\n",
       "    </tr>\n",
       "    <tr>\n",
       "      <td>The Gas Tax Fund Municipal Allocations</td>\n",
       "      <td>Building on the previous Gas Tax Fund (GTF), which allocated $13 billion between 2005 and 2014, the renewed GTF is part of the $53 billion New Building Canada Plan. Beginning in 2014, and over the next 10 years, it will provide Canada's municipalities with over $2 billion annually in permanent, predictable and flexible funding to address local infrastructure priorities. The renewed GTF is now indexed at 2 percent per year and will give municipalities greater flexibility to spend federal funding on a broader range of infrastructure priorities.</td>\n",
       "      <td>Infrastructure Canada</td>\n",
       "      <td>2017-08-18</td>\n",
       "      <td>2017-08-18</td>\n",
       "    </tr>\n",
       "    <tr>\n",
       "      <td>National Infrastructure Knowledge Component Project List</td>\n",
       "      <td>The NIKC has two sub-components: Strategic Research and Partnerships, to support research, knowledge and capacity-building; and Feasibility and Planning Studies, to support collaborative feasibility and planning studies on public infrastructure projects. Through the NIKC component, the BCF will provide an opportunity to enhance and strengthen infrastructure knowledge generation and create more flexibility to move forward in supporting world-class infrastructure for Canada through applied research focussed on current and future government priorities.</td>\n",
       "      <td>Infrastructure Canada</td>\n",
       "      <td>2016-08-15</td>\n",
       "      <td>2016-08-15</td>\n",
       "    </tr>\n",
       "    <tr>\n",
       "      <td>The Gas Tax Fund Transfer Program Allocations</td>\n",
       "      <td>Building on the previous Gas Tax Fund (GTF), which allocated $13 billion between 2005 and 2014, the renewed GTF is part of the $53 billion New Building Canada Plan. Beginning in 2014, and over the next 10 years, it will provide Canada's municipalities with over $2 billion annually in permanent, predictable and flexible funding to address local infrastructure priorities. The renewed GTF is now indexed at 2 percent per year and will give municipalities greater flexibility to spend federal funding on a broader range of infrastructure priorities.</td>\n",
       "      <td>Infrastructure Canada</td>\n",
       "      <td>2016-03-15</td>\n",
       "      <td>2016-03-15</td>\n",
       "    </tr>\n",
       "    <tr>\n",
       "      <td>Provincial-Territorial Infrastructure Base Fund Transfer Program Allocations</td>\n",
       "      <td>Through the Provincial-Territorial Infrastructure Base Fund, each jurisdiction receives base funding to address its core infrastructure priorities. All provinces and territories benefit from this investment in modern public infrastructure, particularly jurisdictions with smaller populations.</td>\n",
       "      <td>Infrastructure Canada</td>\n",
       "      <td>2016-03-15</td>\n",
       "      <td>2016-03-15</td>\n",
       "    </tr>\n",
       "    <tr>\n",
       "      <td>Municipal Rural Infrastructure Fund Project List</td>\n",
       "      <td>This program activity supports small-scale municipal infrastructure projects designed to promote and improve quality of life in both urban and rural communities. At least 80 per cent of funding under the fund has been dedicated to municipalities with a population of less than 250,000. For most projects, the Municipal Rural Infrastructure Fund provided up to one-third federal funding for eligible projects. Its long-term commitment to public infrastructure helps promote sustainable economic growth, innovation and healthy communities. Projects contribute to the construction, renewal and/or enhancement of public infrastructure and build capacity in partnership with recipients. Regional Development Agencies were federal partners for delivery of the Municipal Rural Infrastructure Fund.</td>\n",
       "      <td>Infrastructure Canada</td>\n",
       "      <td>2016-03-15</td>\n",
       "      <td>2016-03-15</td>\n",
       "    </tr>\n",
       "    <tr>\n",
       "      <td>The Building Canada Fund–Major Infrastructure Component Project List</td>\n",
       "      <td>The Building Canada Fund–Major Infrastructure Component targets large infrastructure projects of national or regional significance. It increases overall investment in public infrastructure and contributes to broad federal objectives of economic growth, a cleaner environment and strong and prosperous communities. The objective is to target two-thirds of the funding to national priorities of water, wastewater, public transit, the core national highway system and green energy.</td>\n",
       "      <td>Infrastructure Canada</td>\n",
       "      <td>2016-03-15</td>\n",
       "      <td>2016-03-15</td>\n",
       "    </tr>\n",
       "    <tr>\n",
       "      <td>The Building Canada Fund- Research and Planning Component Project List</td>\n",
       "      <td>The Building Canada Fund- Research and Planning component supports third-party research projects on municipal infrastructure such as city roads, engineering works, underground and climate change infrastructure, urban technical networks, information technology, and asset management.</td>\n",
       "      <td>Infrastructure Canada</td>\n",
       "      <td>2016-03-15</td>\n",
       "      <td>2016-03-15</td>\n",
       "    </tr>\n",
       "    <tr>\n",
       "      <td>The Border Infrastructure Fund Project List</td>\n",
       "      <td>The Border Infrastructure Fund invests in physical and transportation system infrastructure and improved analytical capacity at border crossings. As the Fund helps sustain and increase the long-term efficiency of the Canada-U.S. border, it is critical to Canada's growing economic and trade relationship with the United States.</td>\n",
       "      <td>Infrastructure Canada</td>\n",
       "      <td>2016-03-15</td>\n",
       "      <td>2016-03-15</td>\n",
       "    </tr>\n",
       "    <tr>\n",
       "      <td>Government of Canada Spend Data</td>\n",
       "      <td>The Spend Cube dataset is a summary of procurement expenditure data at the Government of Canada level. It is derived from expenditure data submitted annually from 55 departments and is grouped by commodity. The data covers about 95 per cent of government’s total expenditure on goods and services.  \\r\\n\\r\\nThis dataset is no longer being updated. Updated information can be found in the dataset named: - Government of Canada Spend Data by Department at http://open.canada.ca/data/en/dataset/c37d7510-c54c-4652-8e6f-79023e44be62</td>\n",
       "      <td>Public Services and Procurement Canada</td>\n",
       "      <td>2014-11-06</td>\n",
       "      <td>2014-11-06</td>\n",
       "    </tr>\n",
       "  </tbody>\n",
       "</table>"
      ],
      "text/plain": [
       "                                               title  \\\n",
       "0  Disaster Mitigation and Adaptation Fund (DMAF)...   \n",
       "1             The Gas Tax Fund Municipal Allocations   \n",
       "2  National Infrastructure Knowledge Component Pr...   \n",
       "3      The Gas Tax Fund Transfer Program Allocations   \n",
       "4  Provincial-Territorial Infrastructure Base Fun...   \n",
       "5   Municipal Rural Infrastructure Fund Project List   \n",
       "6  The Building Canada Fund–Major Infrastructure ...   \n",
       "7  The Building Canada Fund- Research and Plannin...   \n",
       "8        The Border Infrastructure Fund Project List   \n",
       "9                    Government of Canada Spend Data   \n",
       "\n",
       "                                         description  \\\n",
       "0  The Government of Canada launched the Disaster...   \n",
       "1  Building on the previous Gas Tax Fund (GTF), w...   \n",
       "2  The NIKC has two sub-components: Strategic Res...   \n",
       "3  Building on the previous Gas Tax Fund (GTF), w...   \n",
       "4  Through the Provincial-Territorial Infrastruct...   \n",
       "5  This program activity supports small-scale mun...   \n",
       "6  The Building Canada Fund–Major Infrastructure ...   \n",
       "7   The Building Canada Fund- Research and Planni...   \n",
       "8  The Border Infrastructure Fund invests in phys...   \n",
       "9  The Spend Cube dataset is a summary of procure...   \n",
       "\n",
       "                                publisher   published language  \\\n",
       "0                   Infrastructure Canada  2018-06-01    en+fr   \n",
       "1                   Infrastructure Canada  2017-08-18    en+fr   \n",
       "2                   Infrastructure Canada  2016-08-15    en+fr   \n",
       "3                   Infrastructure Canada  2016-03-15    en+fr   \n",
       "4                   Infrastructure Canada  2016-03-15    en+fr   \n",
       "5                   Infrastructure Canada  2016-03-15    en+fr   \n",
       "6                   Infrastructure Canada  2016-03-15    en+fr   \n",
       "7                   Infrastructure Canada  2016-03-15    en+fr   \n",
       "8                   Infrastructure Canada  2016-03-15    en+fr   \n",
       "9  Public Services and Procurement Canada  2014-11-06    en+fr   \n",
       "\n",
       "                      program_alignment_architecture    released  \\\n",
       "0  the Disaster Mitigation and Adaptation Fund (D...  2018-06-01   \n",
       "1  Permanent and Flexible Public Infrastructure F...  2017-08-18   \n",
       "2                                    Sunset Programs  2016-08-15   \n",
       "3  Permanent and Flexible Public Infrastructure F...  2016-03-15   \n",
       "4      Funding for Provincial-Territorial Priorities  2016-03-15   \n",
       "5  Infrastructure Investments in Smaller Communities  2016-03-15   \n",
       "6             Large-Scale Infrastructure Investments  2016-03-15   \n",
       "7             Large-Scale Infrastructure Investments  2016-03-15   \n",
       "8  Investments in National Infrastructure Priorities  2016-03-15   \n",
       "9  Program 1.1: Acquisitions - Sub-program 1.1.1:...  2014-11-06   \n",
       "\n",
       "                                          portal_url  \n",
       "0  http://open.canada.ca/data/en/dataset/beee0771...  \n",
       "1  http://open.canada.ca/data/en/dataset/b61755fd...  \n",
       "2  http://open.canada.ca/data/en/dataset/beee0771...  \n",
       "3  http://open.canada.ca/data/en/dataset/9401f5c7...  \n",
       "4  http://open.canada.ca/data/en/dataset/9401f5c7...  \n",
       "5  http://open.canada.ca/data/en/dataset/beee0771...  \n",
       "6  http://open.canada.ca/data/en/dataset/beee0771...  \n",
       "7  http://open.canada.ca/data/en/dataset/beee0771...  \n",
       "8  http://open.canada.ca/data/en/dataset/beee0771...  \n",
       "9  http://open.canada.ca/data/en/dataset/078af0f7...  "
      ]
     },
     "execution_count": 38,
     "metadata": {},
     "output_type": "execute_result"
    }
   ],
   "source": [
    "results = inventory.search('infrastructure spending')\n",
    "results"
   ]
  },
  {
   "cell_type": "code",
   "execution_count": 36,
   "metadata": {},
   "outputs": [
    {
     "data": {
      "text/html": [
       "\n",
       "<h3>The Gas Tax Fund Transfer Program Allocations</h3>\n",
       "<p>Published on <strong>2016-03-15</strong> by <strong>Infrastructure Canada</strong></p>\n",
       "<h3>Description</h3>\n",
       "<p>Building on the previous Gas Tax Fund (GTF), which allocated $13 billion between 2005 and 2014, the renewed GTF is part of the $53 billion New Building Canada Plan. Beginning in 2014, and over the next 10 years, it will provide Canada's municipalities with over $2 billion annually in permanent, predictable and flexible funding to address local infrastructure priorities. The renewed GTF is now indexed at 2 percent per year and will give municipalities greater flexibility to spend federal funding on a broader range of infrastructure priorities.</p>\n",
       "<h3>Resources</h3>\n",
       "<table border=\"1\" class=\"dataframe\">\n",
       "  <thead>\n",
       "    <tr style=\"text-align: right;\">\n",
       "      <th></th>\n",
       "      <th>Resource Name</th>\n",
       "      <th>Resource Type</th>\n",
       "      <th>Format</th>\n",
       "      <th>Language</th>\n",
       "      <th>Link</th>\n",
       "      <th>Status</th>\n",
       "    </tr>\n",
       "  </thead>\n",
       "  <tbody>\n",
       "    <tr>\n",
       "      <th></th>\n",
       "      <td>Transfer Programs</td>\n",
       "      <td>Dataset</td>\n",
       "      <td>XLS</td>\n",
       "      <td>EnglishFrench</td>\n",
       "      <td><a href=\"http://infrastructure.gc.ca/alt-format/opendata/transfer-program-programmes-de-transfert-bil.xlsx?__no_cache__=True\" target=\"_blank\">http://infrastructure.gc.ca/alt-format/opendata/transfer-program-programmes-de-transfert-bil.xlsx?__no_cache__=True</a></td>\n",
       "      <td>Active</td>\n",
       "    </tr>\n",
       "    <tr>\n",
       "      <th></th>\n",
       "      <td>Transfer Programs</td>\n",
       "      <td>Dataset</td>\n",
       "      <td>CSV</td>\n",
       "      <td>EnglishFrench</td>\n",
       "      <td><a href=\"http://infrastructure.gc.ca/alt-format/opendata/transfer-program-programmes-de-transfert-bil.csv?__no_cache__=True\" target=\"_blank\">http://infrastructure.gc.ca/alt-format/opendata/transfer-program-programmes-de-transfert-bil.csv?__no_cache__=True</a></td>\n",
       "      <td>Active</td>\n",
       "    </tr>\n",
       "    <tr>\n",
       "      <th></th>\n",
       "      <td>Transfer Programs</td>\n",
       "      <td>Dataset</td>\n",
       "      <td>JSON</td>\n",
       "      <td>EnglishFrench</td>\n",
       "      <td><a href=\"http://infrastructure.gc.ca/alt-format/opendata/transfer-program-programmes-de-transfert-bil.json\" target=\"_blank\">http://infrastructure.gc.ca/alt-format/opendata/transfer-program-programmes-de-transfert-bil.json</a></td>\n",
       "      <td>Active</td>\n",
       "    </tr>\n",
       "    <tr>\n",
       "      <th></th>\n",
       "      <td>Data Dictionary</td>\n",
       "      <td>Guide</td>\n",
       "      <td>TXT</td>\n",
       "      <td>English</td>\n",
       "      <td><a href=\"http://infrastructure.gc.ca/alt-format/opendata/transfer-program-dictionary-programmes-de-transfert-dictionnaire-en.txt\" target=\"_blank\">http://infrastructure.gc.ca/alt-format/opendata/transfer-program-dictionary-programmes-de-transfert-dictionnaire-en.txt</a></td>\n",
       "      <td>Active</td>\n",
       "    </tr>\n",
       "    <tr>\n",
       "      <th></th>\n",
       "      <td>Data Dictionary</td>\n",
       "      <td>Guide</td>\n",
       "      <td>TXT</td>\n",
       "      <td>French</td>\n",
       "      <td><a href=\"http://infrastructure.gc.ca/alt-format/opendata/transfer-program-dictionary-programmes-de-transfert-dictionnaire-fr.txt\" target=\"_blank\">http://infrastructure.gc.ca/alt-format/opendata/transfer-program-dictionary-programmes-de-transfert-dictionnaire-fr.txt</a></td>\n",
       "      <td>Active</td>\n",
       "    </tr>\n",
       "    <tr>\n",
       "      <th></th>\n",
       "      <td>Supporting Documentation</td>\n",
       "      <td>Guide</td>\n",
       "      <td>HTML</td>\n",
       "      <td>English</td>\n",
       "      <td><a href=\"http://www.infrastructure.gc.ca/alt-format/opendata/support-soutien-infc-en.html\" target=\"_blank\">http://www.infrastructure.gc.ca/alt-format/opendata/support-soutien-infc-en.html</a></td>\n",
       "      <td>Active</td>\n",
       "    </tr>\n",
       "    <tr>\n",
       "      <th></th>\n",
       "      <td>Supporting Documentation</td>\n",
       "      <td>Guide</td>\n",
       "      <td>HTML</td>\n",
       "      <td>French</td>\n",
       "      <td><a href=\"http://www.infrastructure.gc.ca/alt-format/opendata/support-soutien-infc-fr.html\" target=\"_blank\">http://www.infrastructure.gc.ca/alt-format/opendata/support-soutien-infc-fr.html</a></td>\n",
       "      <td>Active</td>\n",
       "    </tr>\n",
       "  </tbody>\n",
       "</table>"
      ],
      "text/plain": [
       "<ocandata.inventory.Dataset at 0x1b46c2ac748>"
      ]
     },
     "execution_count": 36,
     "metadata": {},
     "output_type": "execute_result"
    }
   ],
   "source": [
    "results[0]"
   ]
  },
  {
   "cell_type": "code",
   "execution_count": null,
   "metadata": {},
   "outputs": [],
   "source": []
  }
 ],
 "metadata": {
  "kernelspec": {
   "display_name": "ocandata",
   "language": "python",
   "name": "ocandata"
  },
  "language_info": {
   "codemirror_mode": {
    "name": "ipython",
    "version": 3
   },
   "file_extension": ".py",
   "mimetype": "text/x-python",
   "name": "python",
   "nbconvert_exporter": "python",
   "pygments_lexer": "ipython3",
   "version": "3.7.0"
  }
 },
 "nbformat": 4,
 "nbformat_minor": 2
}
